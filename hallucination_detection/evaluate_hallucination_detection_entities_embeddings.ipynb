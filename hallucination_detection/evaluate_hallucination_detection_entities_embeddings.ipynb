{
 "cells": [
  {
   "cell_type": "markdown",
   "metadata": {},
   "source": [
    "# Script to Determine Hallucination Detection Performance based on Medcat UMLS Entities and Embeddings"
   ]
  },
  {
   "cell_type": "code",
   "execution_count": 1,
   "metadata": {},
   "outputs": [
    {
     "name": "stderr",
     "output_type": "stream",
     "text": [
      "[nltk_data] Downloading package punkt to /home/s_hegs02/nltk_data...\n",
      "[nltk_data]   Package punkt is already up-to-date!\n"
     ]
    }
   ],
   "source": [
    "import json\n",
    "import pandas as pd\n",
    "from sklearn.metrics.pairwise import cosine_similarity\n",
    "from nltk.tokenize import wordpunct_tokenize\n",
    "import nltk\n",
    "nltk.download('punkt')\n",
    "from nervaluate import Evaluator"
   ]
  },
  {
   "cell_type": "code",
   "execution_count": 2,
   "metadata": {},
   "outputs": [],
   "source": [
    "# Define files and parameters\n",
    "bioc_labelled_hallucinations_10_valid_mimic_summaries_path = '/home/s_hegs02/MedTator/13_agreed_label_silver_validation_examples/hallucinations_10_valid_mimic_agreed.jsonl'\n",
    "bioc_labelled_hallucinations_100_mimic_summaries_path = '/home/s_hegs02/MedTator/12_agreed_label_silver_examples/hallucinations_100_mimic_agreed.jsonl'\n",
    "# TODO: Replace with the agreed dataset\n",
    "bioc_labelled_hallucinations_100_generated_summaries = '/home/s_hegs02/MedTator/20_label_halus_qualitatative_annotator_1/hallucinations_100_generated_annotator_1.jsonl'\n",
    "dataset_paths = {'valid_mimic': bioc_labelled_hallucinations_10_valid_mimic_summaries_path, 'test_mimic': bioc_labelled_hallucinations_100_mimic_summaries_path, 'test_generated': bioc_labelled_hallucinations_100_generated_summaries}\n",
    "\n",
    "annotated_labels = {'c': 'condition_unsupported', 'p': 'procedure_unsupported', 'm': 'medication_unsupported', 't': 'time_unsupported', 'l': 'location_unsupported', 'n': 'number_unsupported', 'na': 'name_unsupported', 'w': 'word_unsupported', 'o': 'other_unsupported', 'co': 'contradicted_fact', 'i': 'incorrect_fact'}\n",
    "\n",
    "# Load dataset\n",
    "def read_jsonl(path):\n",
    "    input = []\n",
    "    with open(path) as f:\n",
    "        for line in f:\n",
    "            input.append(json.loads(line))\n",
    "    return input\n",
    "\n",
    "datasets = {k: read_jsonl(v) for k, v in dataset_paths.items()}\n",
    "\n",
    "\n",
    "entities_embeddings_paths = {\n",
    "    'valid_mimic': '/home/s_hegs02/mimic-iv-note-di-bhc/entities/medcat_entities_sapbert_embeddings_valid_mimic_umls_large.json',\n",
    "    'test_mimic': '/home/s_hegs02/mimic-iv-note-di-bhc/entities/medcat_entities_sapbert_embeddings_test_mimic_umls_large.json',\n",
    "    'test_generated': '/home/s_hegs02/mimic-iv-note-di-bhc/entities/medcat_entities_sapbert_embeddings_test_generated_umls_large.json'\n",
    "}\n",
    "# Read the data\n",
    "entities_embeddings = {\n",
    "    'valid_mimic': pd.read_json(entities_embeddings_paths['valid_mimic']),\n",
    "    'test_mimic': pd.read_json(entities_embeddings_paths['test_mimic']),\n",
    "    'test_generated': pd.read_json(entities_embeddings_paths['test_generated'])\n",
    "}"
   ]
  },
  {
   "cell_type": "code",
   "execution_count": 3,
   "metadata": {},
   "outputs": [],
   "source": [
    "# Determine hallucination for dataset\n",
    "evaluate_datesets = ['valid_mimic', 'test_mimic', 'test_generated']\n",
    "\n",
    "hallucination_label = 'hallucination'"
   ]
  },
  {
   "cell_type": "code",
   "execution_count": 4,
   "metadata": {},
   "outputs": [],
   "source": [
    "# Tuning threshold and embeddings on pretty_name_embedding/source_value_embedding on valid_mimic using partial f1\n",
    "# For thresholds:           0.40, 0.45, 0.50, 0.55, 0.60, 0.65, 0.70, 0.75, 0.80, 0.85, 0.90, 0.95, 1.00\n",
    "# pretty_name_embedding:     0.0,  0.0,  4.8,  6.0,  5.3,  5.3,  4.9,  6.2,  7.6,  7.6,  7.6,  7.6,  7.6\n",
    "# source_value_embedding:    0.0,  0.0,  0.0,  5.4,  6.2,  5.7,  7.1,  7.8,  7.7,  7.7,  7.7,  7.7,  7.7\n",
    "# Since source_value_embedding has the best performance additional values tested\n",
    "# For thresholds:           0.70, 0.71, 0.72, 0.73, 0.74, 0.75, 0.76, 0.77, 0.78, 0.79, 0.80\n",
    "# source_value_embedding:    7.1,  6.8,  6.8,  6.6,  6.5,  7.8,  7.8,  7.8,  7.7,  7.7,  7.7\n",
    "# So choose 0.76 as the threshold for source_value_embedding\n",
    "\n",
    "embedding_equivalence_threshold = 0.76\n",
    "embedding_field = 'source_value_embedding'\n",
    "\n",
    "def entities_equal(entity1, entity2, mode):\n",
    "    if mode == 'cui':\n",
    "        return entity1['cui'] == entity2['cui']\n",
    "    elif mode == 'cui_embedding':\n",
    "        if entity1['cui'] == entity2['cui']:\n",
    "            return True\n",
    "        else:\n",
    "            return cosine_similarity([entity1[embedding_field]], [entity2[embedding_field]])[0][0] >= embedding_equivalence_threshold"
   ]
  },
  {
   "cell_type": "code",
   "execution_count": 5,
   "metadata": {},
   "outputs": [
    {
     "name": "stdout",
     "output_type": "stream",
     "text": [
      "Determining hallucinations for 10 examples in valid_mimic...\n",
      "\tFound 43 hallucinations.\n",
      "Determining hallucinations for 100 examples in test_mimic...\n",
      "\tFound 635 hallucinations.\n",
      "Determining hallucinations for 100 examples in test_generated...\n",
      "\tFound 743 hallucinations.\n"
     ]
    }
   ],
   "source": [
    "# Determine hallucination for each summary\n",
    "dataset_results = {}\n",
    "entity_match_mode = 'cui'\n",
    "# Also use embeddings\n",
    "# entity_match_mode = 'cui_embedding'\n",
    "\n",
    "for dataset_name in evaluate_datesets:\n",
    "    num_examples = len(entities_embeddings[dataset_name])\n",
    "    print(f\"Determining hallucinations for {num_examples} examples in {dataset_name}...\")\n",
    "\n",
    "    assert len(entities_embeddings[dataset_name]) == len(datasets[dataset_name])\n",
    "\n",
    "    def convert_entity_to_label(entity):\n",
    "        return {'start': entity['start'], 'end': entity['end'], 'length': entity['end'] - entity['start'], 'label': hallucination_label, 'text': entity['source_value']}\n",
    "\n",
    "    results = []\n",
    "    for ex_id in range(num_examples):\n",
    "        text = datasets[dataset_name][ex_id]['text']\n",
    "        summary = datasets[dataset_name][ex_id]['summary']\n",
    "        labels = []\n",
    "        summary_entities = entities_embeddings[dataset_name].iloc[ex_id]['summary'][0]['entities']\n",
    "        text_entities = entities_embeddings[dataset_name].iloc[ex_id]['text'][0]['entities']\n",
    "        for _, summary_entity in summary_entities.items():\n",
    "            is_hallucination = True\n",
    "            for _, text_entity in text_entities.items():\n",
    "                if entities_equal(summary_entity, text_entity, mode=entity_match_mode):\n",
    "                    is_hallucination = False\n",
    "                    break\n",
    "            label = convert_entity_to_label(summary_entity)\n",
    "            assert summary[label['start']:label['end']] == label['text']\n",
    "            if is_hallucination:\n",
    "                labels.append(label)\n",
    "        results.append({'text': text, 'summary': summary, 'labels': labels})\n",
    "        # Debug\n",
    "        # print(f\"Ex {ex_id} found hallucinations: {len(labels)}\")\n",
    "        # print({'text': text, 'summary': summary, 'labels': labels})\n",
    "    print(f\"\\tFound {sum([len(r['labels']) for r in results])} hallucinations.\")\n",
    "    dataset_results[dataset_name] = results"
   ]
  },
  {
   "cell_type": "code",
   "execution_count": 6,
   "metadata": {},
   "outputs": [],
   "source": [
    "# Evaluate hallucination detection\n",
    "\n",
    "# Define tokenizer\n",
    "tokenizer = lambda x: wordpunct_tokenize(x)\n",
    "\n",
    "def character_labels_to_word_labels(text, labels):\n",
    "    # Convert character level labels to word level labels\n",
    "    new_labels = []\n",
    "    for label in labels:\n",
    "        new_label = {'label': label['label']}\n",
    "        new_label['start'] = len(tokenizer(text[:label['start']]))\n",
    "        new_label['end'] = new_label['start'] + len(tokenizer(label['text']))\n",
    "        new_label['length'] = new_label['end'] - new_label['start']\n",
    "        # Copy over old text because not tokenized version, but check it contains same text without whitespace\n",
    "        new_label['text'] = label['text']\n",
    "        # Debug\n",
    "        # print(f\"Old chars: {label['text'].replace(' ', '')} -> New chards: {''.join(tokenizer(text)[new_label['start']:new_label['end']])}\")\n",
    "        # print(f\"Old label: {label} -> New label: {new_label}\")\n",
    "        assert ''.join(tokenizer(text)[new_label['start']:new_label['end']]) == label['text'].replace(' ', '')\n",
    "        new_labels.append(new_label)\n",
    "    return new_labels\n",
    "\n",
    "# Convert all labelings to word level\n",
    "for dataset_name in evaluate_datesets:\n",
    "    for ex in dataset_results[dataset_name]:\n",
    "        ex['token_labels'] = character_labels_to_word_labels(ex['summary'], ex['labels'])\n",
    "\n",
    "for dataset_name, dataset in datasets.items():\n",
    "    for ex in dataset:\n",
    "        ex['token_labels'] = character_labels_to_word_labels(ex['summary'], ex['labels'])\n",
    "        "
   ]
  },
  {
   "cell_type": "code",
   "execution_count": 7,
   "metadata": {},
   "outputs": [
    {
     "name": "stdout",
     "output_type": "stream",
     "text": [
      "Evaluating hallucination detection on valid_mimic...\n",
      "Raw results:\n",
      "{'ent_type': {'correct': 0, 'incorrect': 4, 'partial': 0, 'missed': 19, 'spurious': 39, 'possible': 23, 'actual': 43, 'precision': 0.0, 'recall': 0.0, 'f1': 0}, 'partial': {'correct': 1, 'incorrect': 0, 'partial': 3, 'missed': 19, 'spurious': 39, 'possible': 23, 'actual': 43, 'precision': 0.05813953488372093, 'recall': 0.10869565217391304, 'f1': 0.07575757575757576}, 'strict': {'correct': 0, 'incorrect': 4, 'partial': 0, 'missed': 19, 'spurious': 39, 'possible': 23, 'actual': 43, 'precision': 0.0, 'recall': 0.0, 'f1': 0}, 'exact': {'correct': 1, 'incorrect': 3, 'partial': 0, 'missed': 19, 'spurious': 39, 'possible': 23, 'actual': 43, 'precision': 0.023255813953488372, 'recall': 0.043478260869565216, 'f1': 0.030303030303030304}}\n",
      "{'hallucination': {'ent_type': {'correct': 0, 'incorrect': 0, 'partial': 0, 'missed': 0, 'spurious': 39, 'possible': 0, 'actual': 39, 'precision': 0.0, 'recall': 0, 'f1': 0}, 'partial': {'correct': 0, 'incorrect': 0, 'partial': 0, 'missed': 0, 'spurious': 39, 'possible': 0, 'actual': 39, 'precision': 0.0, 'recall': 0, 'f1': 0}, 'strict': {'correct': 0, 'incorrect': 0, 'partial': 0, 'missed': 0, 'spurious': 39, 'possible': 0, 'actual': 39, 'precision': 0.0, 'recall': 0, 'f1': 0}, 'exact': {'correct': 0, 'incorrect': 0, 'partial': 0, 'missed': 0, 'spurious': 39, 'possible': 0, 'actual': 39, 'precision': 0.0, 'recall': 0, 'f1': 0}}, 'condition_unsupported': {'ent_type': {'correct': 0, 'incorrect': 0, 'partial': 0, 'missed': 0, 'spurious': 0, 'possible': 0, 'actual': 0, 'precision': 0, 'recall': 0, 'f1': 0}, 'partial': {'correct': 0, 'incorrect': 0, 'partial': 0, 'missed': 0, 'spurious': 0, 'possible': 0, 'actual': 0, 'precision': 0, 'recall': 0, 'f1': 0}, 'strict': {'correct': 0, 'incorrect': 0, 'partial': 0, 'missed': 0, 'spurious': 0, 'possible': 0, 'actual': 0, 'precision': 0, 'recall': 0, 'f1': 0}, 'exact': {'correct': 0, 'incorrect': 0, 'partial': 0, 'missed': 0, 'spurious': 0, 'possible': 0, 'actual': 0, 'precision': 0, 'recall': 0, 'f1': 0}}, 'procedure_unsupported': {'ent_type': {'correct': 0, 'incorrect': 0, 'partial': 0, 'missed': 1, 'spurious': 0, 'possible': 1, 'actual': 0, 'precision': 0, 'recall': 0.0, 'f1': 0}, 'partial': {'correct': 0, 'incorrect': 0, 'partial': 0, 'missed': 1, 'spurious': 0, 'possible': 1, 'actual': 0, 'precision': 0, 'recall': 0.0, 'f1': 0}, 'strict': {'correct': 0, 'incorrect': 0, 'partial': 0, 'missed': 1, 'spurious': 0, 'possible': 1, 'actual': 0, 'precision': 0, 'recall': 0.0, 'f1': 0}, 'exact': {'correct': 0, 'incorrect': 0, 'partial': 0, 'missed': 1, 'spurious': 0, 'possible': 1, 'actual': 0, 'precision': 0, 'recall': 0.0, 'f1': 0}}, 'medication_unsupported': {'ent_type': {'correct': 0, 'incorrect': 2, 'partial': 0, 'missed': 1, 'spurious': 0, 'possible': 3, 'actual': 2, 'precision': 0.0, 'recall': 0.0, 'f1': 0}, 'partial': {'correct': 0, 'incorrect': 0, 'partial': 2, 'missed': 1, 'spurious': 0, 'possible': 3, 'actual': 2, 'precision': 0.5, 'recall': 0.3333333333333333, 'f1': 0.4}, 'strict': {'correct': 0, 'incorrect': 2, 'partial': 0, 'missed': 1, 'spurious': 0, 'possible': 3, 'actual': 2, 'precision': 0.0, 'recall': 0.0, 'f1': 0}, 'exact': {'correct': 0, 'incorrect': 2, 'partial': 0, 'missed': 1, 'spurious': 0, 'possible': 3, 'actual': 2, 'precision': 0.0, 'recall': 0.0, 'f1': 0}}, 'time_unsupported': {'ent_type': {'correct': 0, 'incorrect': 0, 'partial': 0, 'missed': 5, 'spurious': 0, 'possible': 5, 'actual': 0, 'precision': 0, 'recall': 0.0, 'f1': 0}, 'partial': {'correct': 0, 'incorrect': 0, 'partial': 0, 'missed': 5, 'spurious': 0, 'possible': 5, 'actual': 0, 'precision': 0, 'recall': 0.0, 'f1': 0}, 'strict': {'correct': 0, 'incorrect': 0, 'partial': 0, 'missed': 5, 'spurious': 0, 'possible': 5, 'actual': 0, 'precision': 0, 'recall': 0.0, 'f1': 0}, 'exact': {'correct': 0, 'incorrect': 0, 'partial': 0, 'missed': 5, 'spurious': 0, 'possible': 5, 'actual': 0, 'precision': 0, 'recall': 0.0, 'f1': 0}}, 'location_unsupported': {'ent_type': {'correct': 0, 'incorrect': 0, 'partial': 0, 'missed': 1, 'spurious': 0, 'possible': 1, 'actual': 0, 'precision': 0, 'recall': 0.0, 'f1': 0}, 'partial': {'correct': 0, 'incorrect': 0, 'partial': 0, 'missed': 1, 'spurious': 0, 'possible': 1, 'actual': 0, 'precision': 0, 'recall': 0.0, 'f1': 0}, 'strict': {'correct': 0, 'incorrect': 0, 'partial': 0, 'missed': 1, 'spurious': 0, 'possible': 1, 'actual': 0, 'precision': 0, 'recall': 0.0, 'f1': 0}, 'exact': {'correct': 0, 'incorrect': 0, 'partial': 0, 'missed': 1, 'spurious': 0, 'possible': 1, 'actual': 0, 'precision': 0, 'recall': 0.0, 'f1': 0}}, 'number_unsupported': {'ent_type': {'correct': 0, 'incorrect': 0, 'partial': 0, 'missed': 0, 'spurious': 0, 'possible': 0, 'actual': 0, 'precision': 0, 'recall': 0, 'f1': 0}, 'partial': {'correct': 0, 'incorrect': 0, 'partial': 0, 'missed': 0, 'spurious': 0, 'possible': 0, 'actual': 0, 'precision': 0, 'recall': 0, 'f1': 0}, 'strict': {'correct': 0, 'incorrect': 0, 'partial': 0, 'missed': 0, 'spurious': 0, 'possible': 0, 'actual': 0, 'precision': 0, 'recall': 0, 'f1': 0}, 'exact': {'correct': 0, 'incorrect': 0, 'partial': 0, 'missed': 0, 'spurious': 0, 'possible': 0, 'actual': 0, 'precision': 0, 'recall': 0, 'f1': 0}}, 'name_unsupported': {'ent_type': {'correct': 0, 'incorrect': 1, 'partial': 0, 'missed': 3, 'spurious': 0, 'possible': 4, 'actual': 1, 'precision': 0.0, 'recall': 0.0, 'f1': 0}, 'partial': {'correct': 0, 'incorrect': 0, 'partial': 1, 'missed': 3, 'spurious': 0, 'possible': 4, 'actual': 1, 'precision': 0.5, 'recall': 0.125, 'f1': 0.2}, 'strict': {'correct': 0, 'incorrect': 1, 'partial': 0, 'missed': 3, 'spurious': 0, 'possible': 4, 'actual': 1, 'precision': 0.0, 'recall': 0.0, 'f1': 0}, 'exact': {'correct': 0, 'incorrect': 1, 'partial': 0, 'missed': 3, 'spurious': 0, 'possible': 4, 'actual': 1, 'precision': 0.0, 'recall': 0.0, 'f1': 0}}, 'word_unsupported': {'ent_type': {'correct': 0, 'incorrect': 1, 'partial': 0, 'missed': 5, 'spurious': 0, 'possible': 6, 'actual': 1, 'precision': 0.0, 'recall': 0.0, 'f1': 0}, 'partial': {'correct': 1, 'incorrect': 0, 'partial': 0, 'missed': 5, 'spurious': 0, 'possible': 6, 'actual': 1, 'precision': 1.0, 'recall': 0.16666666666666666, 'f1': 0.2857142857142857}, 'strict': {'correct': 0, 'incorrect': 1, 'partial': 0, 'missed': 5, 'spurious': 0, 'possible': 6, 'actual': 1, 'precision': 0.0, 'recall': 0.0, 'f1': 0}, 'exact': {'correct': 1, 'incorrect': 0, 'partial': 0, 'missed': 5, 'spurious': 0, 'possible': 6, 'actual': 1, 'precision': 1.0, 'recall': 0.16666666666666666, 'f1': 0.2857142857142857}}, 'other_unsupported': {'ent_type': {'correct': 0, 'incorrect': 0, 'partial': 0, 'missed': 0, 'spurious': 0, 'possible': 0, 'actual': 0, 'precision': 0, 'recall': 0, 'f1': 0}, 'partial': {'correct': 0, 'incorrect': 0, 'partial': 0, 'missed': 0, 'spurious': 0, 'possible': 0, 'actual': 0, 'precision': 0, 'recall': 0, 'f1': 0}, 'strict': {'correct': 0, 'incorrect': 0, 'partial': 0, 'missed': 0, 'spurious': 0, 'possible': 0, 'actual': 0, 'precision': 0, 'recall': 0, 'f1': 0}, 'exact': {'correct': 0, 'incorrect': 0, 'partial': 0, 'missed': 0, 'spurious': 0, 'possible': 0, 'actual': 0, 'precision': 0, 'recall': 0, 'f1': 0}}, 'contradicted_fact': {'ent_type': {'correct': 0, 'incorrect': 0, 'partial': 0, 'missed': 3, 'spurious': 0, 'possible': 3, 'actual': 0, 'precision': 0, 'recall': 0.0, 'f1': 0}, 'partial': {'correct': 0, 'incorrect': 0, 'partial': 0, 'missed': 3, 'spurious': 0, 'possible': 3, 'actual': 0, 'precision': 0, 'recall': 0.0, 'f1': 0}, 'strict': {'correct': 0, 'incorrect': 0, 'partial': 0, 'missed': 3, 'spurious': 0, 'possible': 3, 'actual': 0, 'precision': 0, 'recall': 0.0, 'f1': 0}, 'exact': {'correct': 0, 'incorrect': 0, 'partial': 0, 'missed': 3, 'spurious': 0, 'possible': 3, 'actual': 0, 'precision': 0, 'recall': 0.0, 'f1': 0}}, 'incorrect_fact': {'ent_type': {'correct': 0, 'incorrect': 0, 'partial': 0, 'missed': 0, 'spurious': 0, 'possible': 0, 'actual': 0, 'precision': 0, 'recall': 0, 'f1': 0}, 'partial': {'correct': 0, 'incorrect': 0, 'partial': 0, 'missed': 0, 'spurious': 0, 'possible': 0, 'actual': 0, 'precision': 0, 'recall': 0, 'f1': 0}, 'strict': {'correct': 0, 'incorrect': 0, 'partial': 0, 'missed': 0, 'spurious': 0, 'possible': 0, 'actual': 0, 'precision': 0, 'recall': 0, 'f1': 0}, 'exact': {'correct': 0, 'incorrect': 0, 'partial': 0, 'missed': 0, 'spurious': 0, 'possible': 0, 'actual': 0, 'precision': 0, 'recall': 0, 'f1': 0}}}\n",
      "\n",
      "Results for partial on valid_mimic (['precision', 'recall', 'f1']):\n",
      "cui (partial) & $5.8$ & $10.9$ & $7.6$ \\\\\n",
      "Results for partial on valid_mimic for all labels (recall):\n",
      "cui (partial) & $0.0$ & $0.0$ & $33.3$ & $0.0$ & $0.0$ & $0.0$ & $12.5$ & $16.7$ & $0.0$ & $0.0$ & $0.0$ \\\\\n",
      "\n",
      "Evaluating hallucination detection on test_mimic...\n",
      "Raw results:\n",
      "{'ent_type': {'correct': 0, 'incorrect': 70, 'partial': 0, 'missed': 216, 'spurious': 565, 'possible': 286, 'actual': 635, 'precision': 0.0, 'recall': 0.0, 'f1': 0}, 'partial': {'correct': 24, 'incorrect': 0, 'partial': 46, 'missed': 216, 'spurious': 565, 'possible': 286, 'actual': 635, 'precision': 0.07401574803149606, 'recall': 0.16433566433566432, 'f1': 0.1020629750271444}, 'strict': {'correct': 0, 'incorrect': 70, 'partial': 0, 'missed': 216, 'spurious': 565, 'possible': 286, 'actual': 635, 'precision': 0.0, 'recall': 0.0, 'f1': 0}, 'exact': {'correct': 24, 'incorrect': 46, 'partial': 0, 'missed': 216, 'spurious': 565, 'possible': 286, 'actual': 635, 'precision': 0.03779527559055118, 'recall': 0.08391608391608392, 'f1': 0.05211726384364821}}\n",
      "{'hallucination': {'ent_type': {'correct': 0, 'incorrect': 0, 'partial': 0, 'missed': 0, 'spurious': 565, 'possible': 0, 'actual': 565, 'precision': 0.0, 'recall': 0, 'f1': 0}, 'partial': {'correct': 0, 'incorrect': 0, 'partial': 0, 'missed': 0, 'spurious': 565, 'possible': 0, 'actual': 565, 'precision': 0.0, 'recall': 0, 'f1': 0}, 'strict': {'correct': 0, 'incorrect': 0, 'partial': 0, 'missed': 0, 'spurious': 565, 'possible': 0, 'actual': 565, 'precision': 0.0, 'recall': 0, 'f1': 0}, 'exact': {'correct': 0, 'incorrect': 0, 'partial': 0, 'missed': 0, 'spurious': 565, 'possible': 0, 'actual': 565, 'precision': 0.0, 'recall': 0, 'f1': 0}}, 'condition_unsupported': {'ent_type': {'correct': 0, 'incorrect': 17, 'partial': 0, 'missed': 35, 'spurious': 0, 'possible': 52, 'actual': 17, 'precision': 0.0, 'recall': 0.0, 'f1': 0}, 'partial': {'correct': 13, 'incorrect': 0, 'partial': 4, 'missed': 35, 'spurious': 0, 'possible': 52, 'actual': 17, 'precision': 0.8823529411764706, 'recall': 0.28846153846153844, 'f1': 0.4347826086956522}, 'strict': {'correct': 0, 'incorrect': 17, 'partial': 0, 'missed': 35, 'spurious': 0, 'possible': 52, 'actual': 17, 'precision': 0.0, 'recall': 0.0, 'f1': 0}, 'exact': {'correct': 13, 'incorrect': 4, 'partial': 0, 'missed': 35, 'spurious': 0, 'possible': 52, 'actual': 17, 'precision': 0.7647058823529411, 'recall': 0.25, 'f1': 0.37681159420289856}}, 'procedure_unsupported': {'ent_type': {'correct': 0, 'incorrect': 8, 'partial': 0, 'missed': 11, 'spurious': 0, 'possible': 19, 'actual': 8, 'precision': 0.0, 'recall': 0.0, 'f1': 0}, 'partial': {'correct': 4, 'incorrect': 0, 'partial': 4, 'missed': 11, 'spurious': 0, 'possible': 19, 'actual': 8, 'precision': 0.75, 'recall': 0.3157894736842105, 'f1': 0.44444444444444436}, 'strict': {'correct': 0, 'incorrect': 8, 'partial': 0, 'missed': 11, 'spurious': 0, 'possible': 19, 'actual': 8, 'precision': 0.0, 'recall': 0.0, 'f1': 0}, 'exact': {'correct': 4, 'incorrect': 4, 'partial': 0, 'missed': 11, 'spurious': 0, 'possible': 19, 'actual': 8, 'precision': 0.5, 'recall': 0.21052631578947367, 'f1': 0.2962962962962963}}, 'medication_unsupported': {'ent_type': {'correct': 0, 'incorrect': 11, 'partial': 0, 'missed': 23, 'spurious': 0, 'possible': 34, 'actual': 11, 'precision': 0.0, 'recall': 0.0, 'f1': 0}, 'partial': {'correct': 4, 'incorrect': 0, 'partial': 7, 'missed': 23, 'spurious': 0, 'possible': 34, 'actual': 11, 'precision': 0.6818181818181818, 'recall': 0.22058823529411764, 'f1': 0.3333333333333333}, 'strict': {'correct': 0, 'incorrect': 11, 'partial': 0, 'missed': 23, 'spurious': 0, 'possible': 34, 'actual': 11, 'precision': 0.0, 'recall': 0.0, 'f1': 0}, 'exact': {'correct': 4, 'incorrect': 7, 'partial': 0, 'missed': 23, 'spurious': 0, 'possible': 34, 'actual': 11, 'precision': 0.36363636363636365, 'recall': 0.11764705882352941, 'f1': 0.17777777777777776}}, 'time_unsupported': {'ent_type': {'correct': 0, 'incorrect': 2, 'partial': 0, 'missed': 33, 'spurious': 0, 'possible': 35, 'actual': 2, 'precision': 0.0, 'recall': 0.0, 'f1': 0}, 'partial': {'correct': 0, 'incorrect': 0, 'partial': 2, 'missed': 33, 'spurious': 0, 'possible': 35, 'actual': 2, 'precision': 0.5, 'recall': 0.02857142857142857, 'f1': 0.05405405405405405}, 'strict': {'correct': 0, 'incorrect': 2, 'partial': 0, 'missed': 33, 'spurious': 0, 'possible': 35, 'actual': 2, 'precision': 0.0, 'recall': 0.0, 'f1': 0}, 'exact': {'correct': 0, 'incorrect': 2, 'partial': 0, 'missed': 33, 'spurious': 0, 'possible': 35, 'actual': 2, 'precision': 0.0, 'recall': 0.0, 'f1': 0}}, 'location_unsupported': {'ent_type': {'correct': 0, 'incorrect': 4, 'partial': 0, 'missed': 25, 'spurious': 0, 'possible': 29, 'actual': 4, 'precision': 0.0, 'recall': 0.0, 'f1': 0}, 'partial': {'correct': 0, 'incorrect': 0, 'partial': 4, 'missed': 25, 'spurious': 0, 'possible': 29, 'actual': 4, 'precision': 0.5, 'recall': 0.06896551724137931, 'f1': 0.1212121212121212}, 'strict': {'correct': 0, 'incorrect': 4, 'partial': 0, 'missed': 25, 'spurious': 0, 'possible': 29, 'actual': 4, 'precision': 0.0, 'recall': 0.0, 'f1': 0}, 'exact': {'correct': 0, 'incorrect': 4, 'partial': 0, 'missed': 25, 'spurious': 0, 'possible': 29, 'actual': 4, 'precision': 0.0, 'recall': 0.0, 'f1': 0}}, 'number_unsupported': {'ent_type': {'correct': 0, 'incorrect': 1, 'partial': 0, 'missed': 6, 'spurious': 0, 'possible': 7, 'actual': 1, 'precision': 0.0, 'recall': 0.0, 'f1': 0}, 'partial': {'correct': 0, 'incorrect': 0, 'partial': 1, 'missed': 6, 'spurious': 0, 'possible': 7, 'actual': 1, 'precision': 0.5, 'recall': 0.07142857142857142, 'f1': 0.125}, 'strict': {'correct': 0, 'incorrect': 1, 'partial': 0, 'missed': 6, 'spurious': 0, 'possible': 7, 'actual': 1, 'precision': 0.0, 'recall': 0.0, 'f1': 0}, 'exact': {'correct': 0, 'incorrect': 1, 'partial': 0, 'missed': 6, 'spurious': 0, 'possible': 7, 'actual': 1, 'precision': 0.0, 'recall': 0.0, 'f1': 0}}, 'name_unsupported': {'ent_type': {'correct': 0, 'incorrect': 1, 'partial': 0, 'missed': 17, 'spurious': 0, 'possible': 18, 'actual': 1, 'precision': 0.0, 'recall': 0.0, 'f1': 0}, 'partial': {'correct': 0, 'incorrect': 0, 'partial': 1, 'missed': 17, 'spurious': 0, 'possible': 18, 'actual': 1, 'precision': 0.5, 'recall': 0.027777777777777776, 'f1': 0.05263157894736842}, 'strict': {'correct': 0, 'incorrect': 1, 'partial': 0, 'missed': 17, 'spurious': 0, 'possible': 18, 'actual': 1, 'precision': 0.0, 'recall': 0.0, 'f1': 0}, 'exact': {'correct': 0, 'incorrect': 1, 'partial': 0, 'missed': 17, 'spurious': 0, 'possible': 18, 'actual': 1, 'precision': 0.0, 'recall': 0.0, 'f1': 0}}, 'word_unsupported': {'ent_type': {'correct': 0, 'incorrect': 21, 'partial': 0, 'missed': 55, 'spurious': 0, 'possible': 76, 'actual': 21, 'precision': 0.0, 'recall': 0.0, 'f1': 0}, 'partial': {'correct': 3, 'incorrect': 0, 'partial': 18, 'missed': 55, 'spurious': 0, 'possible': 76, 'actual': 21, 'precision': 0.5714285714285714, 'recall': 0.15789473684210525, 'f1': 0.24742268041237112}, 'strict': {'correct': 0, 'incorrect': 21, 'partial': 0, 'missed': 55, 'spurious': 0, 'possible': 76, 'actual': 21, 'precision': 0.0, 'recall': 0.0, 'f1': 0}, 'exact': {'correct': 3, 'incorrect': 18, 'partial': 0, 'missed': 55, 'spurious': 0, 'possible': 76, 'actual': 21, 'precision': 0.14285714285714285, 'recall': 0.039473684210526314, 'f1': 0.06185567010309278}}, 'other_unsupported': {'ent_type': {'correct': 0, 'incorrect': 1, 'partial': 0, 'missed': 0, 'spurious': 0, 'possible': 1, 'actual': 1, 'precision': 0.0, 'recall': 0.0, 'f1': 0}, 'partial': {'correct': 0, 'incorrect': 0, 'partial': 1, 'missed': 0, 'spurious': 0, 'possible': 1, 'actual': 1, 'precision': 0.5, 'recall': 0.5, 'f1': 0.5}, 'strict': {'correct': 0, 'incorrect': 1, 'partial': 0, 'missed': 0, 'spurious': 0, 'possible': 1, 'actual': 1, 'precision': 0.0, 'recall': 0.0, 'f1': 0}, 'exact': {'correct': 0, 'incorrect': 1, 'partial': 0, 'missed': 0, 'spurious': 0, 'possible': 1, 'actual': 1, 'precision': 0.0, 'recall': 0.0, 'f1': 0}}, 'contradicted_fact': {'ent_type': {'correct': 0, 'incorrect': 4, 'partial': 0, 'missed': 11, 'spurious': 0, 'possible': 15, 'actual': 4, 'precision': 0.0, 'recall': 0.0, 'f1': 0}, 'partial': {'correct': 0, 'incorrect': 0, 'partial': 4, 'missed': 11, 'spurious': 0, 'possible': 15, 'actual': 4, 'precision': 0.5, 'recall': 0.13333333333333333, 'f1': 0.2105263157894737}, 'strict': {'correct': 0, 'incorrect': 4, 'partial': 0, 'missed': 11, 'spurious': 0, 'possible': 15, 'actual': 4, 'precision': 0.0, 'recall': 0.0, 'f1': 0}, 'exact': {'correct': 0, 'incorrect': 4, 'partial': 0, 'missed': 11, 'spurious': 0, 'possible': 15, 'actual': 4, 'precision': 0.0, 'recall': 0.0, 'f1': 0}}, 'incorrect_fact': {'ent_type': {'correct': 0, 'incorrect': 0, 'partial': 0, 'missed': 0, 'spurious': 0, 'possible': 0, 'actual': 0, 'precision': 0, 'recall': 0, 'f1': 0}, 'partial': {'correct': 0, 'incorrect': 0, 'partial': 0, 'missed': 0, 'spurious': 0, 'possible': 0, 'actual': 0, 'precision': 0, 'recall': 0, 'f1': 0}, 'strict': {'correct': 0, 'incorrect': 0, 'partial': 0, 'missed': 0, 'spurious': 0, 'possible': 0, 'actual': 0, 'precision': 0, 'recall': 0, 'f1': 0}, 'exact': {'correct': 0, 'incorrect': 0, 'partial': 0, 'missed': 0, 'spurious': 0, 'possible': 0, 'actual': 0, 'precision': 0, 'recall': 0, 'f1': 0}}}\n",
      "\n",
      "Results for partial on test_mimic (['precision', 'recall', 'f1']):\n",
      "cui (partial) & $7.4$ & $16.4$ & $10.2$ \\\\\n",
      "Results for partial on test_mimic for all labels (recall):\n",
      "cui (partial) & $28.8$ & $31.6$ & $22.1$ & $2.9$ & $6.9$ & $7.1$ & $2.8$ & $15.8$ & $50.0$ & $13.3$ & $0.0$ \\\\\n",
      "\n",
      "Evaluating hallucination detection on test_generated...\n",
      "Raw results:\n",
      "{'ent_type': {'correct': 0, 'incorrect': 36, 'partial': 0, 'missed': 87, 'spurious': 707, 'possible': 123, 'actual': 743, 'precision': 0.0, 'recall': 0.0, 'f1': 0}, 'partial': {'correct': 14, 'incorrect': 0, 'partial': 22, 'missed': 87, 'spurious': 707, 'possible': 123, 'actual': 743, 'precision': 0.033647375504710635, 'recall': 0.2032520325203252, 'f1': 0.057736720554272515}, 'strict': {'correct': 0, 'incorrect': 36, 'partial': 0, 'missed': 87, 'spurious': 707, 'possible': 123, 'actual': 743, 'precision': 0.0, 'recall': 0.0, 'f1': 0}, 'exact': {'correct': 14, 'incorrect': 22, 'partial': 0, 'missed': 87, 'spurious': 707, 'possible': 123, 'actual': 743, 'precision': 0.018842530282637954, 'recall': 0.11382113821138211, 'f1': 0.03233256351039261}}\n",
      "{'hallucination': {'ent_type': {'correct': 0, 'incorrect': 0, 'partial': 0, 'missed': 0, 'spurious': 707, 'possible': 0, 'actual': 707, 'precision': 0.0, 'recall': 0, 'f1': 0}, 'partial': {'correct': 0, 'incorrect': 0, 'partial': 0, 'missed': 0, 'spurious': 707, 'possible': 0, 'actual': 707, 'precision': 0.0, 'recall': 0, 'f1': 0}, 'strict': {'correct': 0, 'incorrect': 0, 'partial': 0, 'missed': 0, 'spurious': 707, 'possible': 0, 'actual': 707, 'precision': 0.0, 'recall': 0, 'f1': 0}, 'exact': {'correct': 0, 'incorrect': 0, 'partial': 0, 'missed': 0, 'spurious': 707, 'possible': 0, 'actual': 707, 'precision': 0.0, 'recall': 0, 'f1': 0}}, 'condition_unsupported': {'ent_type': {'correct': 0, 'incorrect': 13, 'partial': 0, 'missed': 13, 'spurious': 0, 'possible': 26, 'actual': 13, 'precision': 0.0, 'recall': 0.0, 'f1': 0}, 'partial': {'correct': 7, 'incorrect': 0, 'partial': 6, 'missed': 13, 'spurious': 0, 'possible': 26, 'actual': 13, 'precision': 0.7692307692307693, 'recall': 0.38461538461538464, 'f1': 0.5128205128205128}, 'strict': {'correct': 0, 'incorrect': 13, 'partial': 0, 'missed': 13, 'spurious': 0, 'possible': 26, 'actual': 13, 'precision': 0.0, 'recall': 0.0, 'f1': 0}, 'exact': {'correct': 7, 'incorrect': 6, 'partial': 0, 'missed': 13, 'spurious': 0, 'possible': 26, 'actual': 13, 'precision': 0.5384615384615384, 'recall': 0.2692307692307692, 'f1': 0.3589743589743589}}, 'procedure_unsupported': {'ent_type': {'correct': 0, 'incorrect': 4, 'partial': 0, 'missed': 7, 'spurious': 0, 'possible': 11, 'actual': 4, 'precision': 0.0, 'recall': 0.0, 'f1': 0}, 'partial': {'correct': 3, 'incorrect': 0, 'partial': 1, 'missed': 7, 'spurious': 0, 'possible': 11, 'actual': 4, 'precision': 0.875, 'recall': 0.3181818181818182, 'f1': 0.4666666666666667}, 'strict': {'correct': 0, 'incorrect': 4, 'partial': 0, 'missed': 7, 'spurious': 0, 'possible': 11, 'actual': 4, 'precision': 0.0, 'recall': 0.0, 'f1': 0}, 'exact': {'correct': 3, 'incorrect': 1, 'partial': 0, 'missed': 7, 'spurious': 0, 'possible': 11, 'actual': 4, 'precision': 0.75, 'recall': 0.2727272727272727, 'f1': 0.39999999999999997}}, 'medication_unsupported': {'ent_type': {'correct': 0, 'incorrect': 7, 'partial': 0, 'missed': 6, 'spurious': 0, 'possible': 13, 'actual': 7, 'precision': 0.0, 'recall': 0.0, 'f1': 0}, 'partial': {'correct': 1, 'incorrect': 0, 'partial': 6, 'missed': 6, 'spurious': 0, 'possible': 13, 'actual': 7, 'precision': 0.5714285714285714, 'recall': 0.3076923076923077, 'f1': 0.4}, 'strict': {'correct': 0, 'incorrect': 7, 'partial': 0, 'missed': 6, 'spurious': 0, 'possible': 13, 'actual': 7, 'precision': 0.0, 'recall': 0.0, 'f1': 0}, 'exact': {'correct': 1, 'incorrect': 6, 'partial': 0, 'missed': 6, 'spurious': 0, 'possible': 13, 'actual': 7, 'precision': 0.14285714285714285, 'recall': 0.07692307692307693, 'f1': 0.1}}, 'time_unsupported': {'ent_type': {'correct': 0, 'incorrect': 0, 'partial': 0, 'missed': 5, 'spurious': 0, 'possible': 5, 'actual': 0, 'precision': 0, 'recall': 0.0, 'f1': 0}, 'partial': {'correct': 0, 'incorrect': 0, 'partial': 0, 'missed': 5, 'spurious': 0, 'possible': 5, 'actual': 0, 'precision': 0, 'recall': 0.0, 'f1': 0}, 'strict': {'correct': 0, 'incorrect': 0, 'partial': 0, 'missed': 5, 'spurious': 0, 'possible': 5, 'actual': 0, 'precision': 0, 'recall': 0.0, 'f1': 0}, 'exact': {'correct': 0, 'incorrect': 0, 'partial': 0, 'missed': 5, 'spurious': 0, 'possible': 5, 'actual': 0, 'precision': 0, 'recall': 0.0, 'f1': 0}}, 'location_unsupported': {'ent_type': {'correct': 0, 'incorrect': 5, 'partial': 0, 'missed': 8, 'spurious': 0, 'possible': 13, 'actual': 5, 'precision': 0.0, 'recall': 0.0, 'f1': 0}, 'partial': {'correct': 3, 'incorrect': 0, 'partial': 2, 'missed': 8, 'spurious': 0, 'possible': 13, 'actual': 5, 'precision': 0.8, 'recall': 0.3076923076923077, 'f1': 0.4444444444444444}, 'strict': {'correct': 0, 'incorrect': 5, 'partial': 0, 'missed': 8, 'spurious': 0, 'possible': 13, 'actual': 5, 'precision': 0.0, 'recall': 0.0, 'f1': 0}, 'exact': {'correct': 3, 'incorrect': 2, 'partial': 0, 'missed': 8, 'spurious': 0, 'possible': 13, 'actual': 5, 'precision': 0.6, 'recall': 0.23076923076923078, 'f1': 0.33333333333333337}}, 'number_unsupported': {'ent_type': {'correct': 0, 'incorrect': 0, 'partial': 0, 'missed': 0, 'spurious': 0, 'possible': 0, 'actual': 0, 'precision': 0, 'recall': 0, 'f1': 0}, 'partial': {'correct': 0, 'incorrect': 0, 'partial': 0, 'missed': 0, 'spurious': 0, 'possible': 0, 'actual': 0, 'precision': 0, 'recall': 0, 'f1': 0}, 'strict': {'correct': 0, 'incorrect': 0, 'partial': 0, 'missed': 0, 'spurious': 0, 'possible': 0, 'actual': 0, 'precision': 0, 'recall': 0, 'f1': 0}, 'exact': {'correct': 0, 'incorrect': 0, 'partial': 0, 'missed': 0, 'spurious': 0, 'possible': 0, 'actual': 0, 'precision': 0, 'recall': 0, 'f1': 0}}, 'name_unsupported': {'ent_type': {'correct': 0, 'incorrect': 0, 'partial': 0, 'missed': 5, 'spurious': 0, 'possible': 5, 'actual': 0, 'precision': 0, 'recall': 0.0, 'f1': 0}, 'partial': {'correct': 0, 'incorrect': 0, 'partial': 0, 'missed': 5, 'spurious': 0, 'possible': 5, 'actual': 0, 'precision': 0, 'recall': 0.0, 'f1': 0}, 'strict': {'correct': 0, 'incorrect': 0, 'partial': 0, 'missed': 5, 'spurious': 0, 'possible': 5, 'actual': 0, 'precision': 0, 'recall': 0.0, 'f1': 0}, 'exact': {'correct': 0, 'incorrect': 0, 'partial': 0, 'missed': 5, 'spurious': 0, 'possible': 5, 'actual': 0, 'precision': 0, 'recall': 0.0, 'f1': 0}}, 'word_unsupported': {'ent_type': {'correct': 0, 'incorrect': 6, 'partial': 0, 'missed': 41, 'spurious': 0, 'possible': 47, 'actual': 6, 'precision': 0.0, 'recall': 0.0, 'f1': 0}, 'partial': {'correct': 0, 'incorrect': 0, 'partial': 6, 'missed': 41, 'spurious': 0, 'possible': 47, 'actual': 6, 'precision': 0.5, 'recall': 0.06382978723404255, 'f1': 0.11320754716981131}, 'strict': {'correct': 0, 'incorrect': 6, 'partial': 0, 'missed': 41, 'spurious': 0, 'possible': 47, 'actual': 6, 'precision': 0.0, 'recall': 0.0, 'f1': 0}, 'exact': {'correct': 0, 'incorrect': 6, 'partial': 0, 'missed': 41, 'spurious': 0, 'possible': 47, 'actual': 6, 'precision': 0.0, 'recall': 0.0, 'f1': 0}}, 'other_unsupported': {'ent_type': {'correct': 0, 'incorrect': 0, 'partial': 0, 'missed': 1, 'spurious': 0, 'possible': 1, 'actual': 0, 'precision': 0, 'recall': 0.0, 'f1': 0}, 'partial': {'correct': 0, 'incorrect': 0, 'partial': 0, 'missed': 1, 'spurious': 0, 'possible': 1, 'actual': 0, 'precision': 0, 'recall': 0.0, 'f1': 0}, 'strict': {'correct': 0, 'incorrect': 0, 'partial': 0, 'missed': 1, 'spurious': 0, 'possible': 1, 'actual': 0, 'precision': 0, 'recall': 0.0, 'f1': 0}, 'exact': {'correct': 0, 'incorrect': 0, 'partial': 0, 'missed': 1, 'spurious': 0, 'possible': 1, 'actual': 0, 'precision': 0, 'recall': 0.0, 'f1': 0}}, 'contradicted_fact': {'ent_type': {'correct': 0, 'incorrect': 1, 'partial': 0, 'missed': 1, 'spurious': 0, 'possible': 2, 'actual': 1, 'precision': 0.0, 'recall': 0.0, 'f1': 0}, 'partial': {'correct': 0, 'incorrect': 0, 'partial': 1, 'missed': 1, 'spurious': 0, 'possible': 2, 'actual': 1, 'precision': 0.5, 'recall': 0.25, 'f1': 0.3333333333333333}, 'strict': {'correct': 0, 'incorrect': 1, 'partial': 0, 'missed': 1, 'spurious': 0, 'possible': 2, 'actual': 1, 'precision': 0.0, 'recall': 0.0, 'f1': 0}, 'exact': {'correct': 0, 'incorrect': 1, 'partial': 0, 'missed': 1, 'spurious': 0, 'possible': 2, 'actual': 1, 'precision': 0.0, 'recall': 0.0, 'f1': 0}}, 'incorrect_fact': {'ent_type': {'correct': 0, 'incorrect': 0, 'partial': 0, 'missed': 0, 'spurious': 0, 'possible': 0, 'actual': 0, 'precision': 0, 'recall': 0, 'f1': 0}, 'partial': {'correct': 0, 'incorrect': 0, 'partial': 0, 'missed': 0, 'spurious': 0, 'possible': 0, 'actual': 0, 'precision': 0, 'recall': 0, 'f1': 0}, 'strict': {'correct': 0, 'incorrect': 0, 'partial': 0, 'missed': 0, 'spurious': 0, 'possible': 0, 'actual': 0, 'precision': 0, 'recall': 0, 'f1': 0}, 'exact': {'correct': 0, 'incorrect': 0, 'partial': 0, 'missed': 0, 'spurious': 0, 'possible': 0, 'actual': 0, 'precision': 0, 'recall': 0, 'f1': 0}}}\n",
      "\n",
      "Results for partial on test_generated (['precision', 'recall', 'f1']):\n",
      "cui (partial) & $3.4$ & $20.3$ & $5.8$ \\\\\n",
      "Results for partial on test_generated for all labels (recall):\n",
      "cui (partial) & $38.5$ & $31.8$ & $30.8$ & $0.0$ & $30.8$ & $0.0$ & $0.0$ & $6.4$ & $0.0$ & $25.0$ & $0.0$ \\\\\n",
      "\n"
     ]
    }
   ],
   "source": [
    "# Evaluate hallucination detection\n",
    "for dataset_name in evaluate_datesets:\n",
    "    print(f\"Evaluating hallucination detection on {dataset_name}...\")\n",
    "    true = [ex['token_labels'] for ex in datasets[dataset_name]]\n",
    "    pred = [ex['token_labels'] for ex in dataset_results[dataset_name]]\n",
    "    # All labels\n",
    "    evaluator = Evaluator(true, pred, tags=[hallucination_label] + list(annotated_labels.values()))\n",
    "    results, results_per_tag = evaluator.evaluate()\n",
    "\n",
    "    print(\"Raw results:\")\n",
    "    print(results)\n",
    "    print(results_per_tag)\n",
    "    print() \n",
    "\n",
    "    # Get partial precision, recall, f1 across all labels as latex row\n",
    "    error_type = 'partial'\n",
    "    performance_measures = ['precision', 'recall', 'f1']\n",
    "    print(f\"Results for {error_type} on {dataset_name} ({performance_measures}):\")\n",
    "    print(f\"{entity_match_mode} ({error_type}) & \" + \" & \".join([f\"${results[error_type][measure]*100:.1f}$\" for measure in performance_measures]) + \" \\\\\\\\\")\n",
    "    \n",
    "    # Get recall for hallucination label\n",
    "    error_type = 'partial'\n",
    "    performance_measures = 'recall'\n",
    "    print(f\"Results for {error_type} on {dataset_name} for all labels ({performance_measures}):\")\n",
    "    performances = [results_per_tag[label][error_type][performance_measures] for label in list(annotated_labels.values())]\n",
    "    print(f\"{entity_match_mode} ({error_type}) & \" + \" & \".join([f\"${performance*100:.1f}$\" for performance in performances]) + \" \\\\\\\\\")\n",
    "    print()"
   ]
  },
  {
   "cell_type": "code",
   "execution_count": null,
   "metadata": {},
   "outputs": [],
   "source": []
  },
  {
   "cell_type": "code",
   "execution_count": 8,
   "metadata": {},
   "outputs": [
    {
     "name": "stdout",
     "output_type": "stream",
     "text": [
      "Simplified setting with only hallucination_label\n"
     ]
    }
   ],
   "source": [
    "# Toy evaluation example example\n",
    "# Documentation find here: https://pypi.org/project/nervaluate/\n",
    "# Distinguish for different types\n",
    "# - Type\tsome overlap between the system tagged entity and the gold annotation is required\n",
    "# - Partial\tpartial boundary match over the surface string, regardless of the type\n",
    "# - Strict\texact boundary surface string match and entity type\n",
    "# - Exact\texact boundary match over the surface string, regardless of the type\n",
    "# In this setting partial sufficient because baseline does not predict type and this should give us an upper bound of the performance \n",
    "\n",
    "true = [[\n",
    "    {'start': 10, 'end': 11, 'length': 1,  'label': 'medication_unsupported', 'text': 'motrin'},\n",
    "    {'start': 20, 'end': 21, 'length': 2, 'label': 'medication_unsupported', 'text': 'received antibiotics'},\n",
    "    {'start': 30, 'end': 31, 'length': 3, 'label': 'condition_unsupported', 'text': 'breast cancer metastatic'}\n",
    "]]\n",
    "pred = [[\n",
    "    {'start': 10, 'end': 12, 'length': 1,  'label': 'condition_unsupported', 'text': 'motrin'},\n",
    "    {'start': 20, 'end': 21, 'length': 2, 'label': 'medication_unsupported', 'text': 'received antibiotics'},\n",
    "    {'start': 30, 'end': 31, 'length': 3, 'label': 'condition_unsupported', 'text': 'breast cancer metastatic'}\n",
    "]]\n",
    "evaluator = Evaluator(true, pred, tags=['condition_unsupported', 'medication_unsupported'])\n",
    "results, results_per_tag = evaluator.evaluate()\n",
    "# print(json.dumps(results, indent=4))\n",
    "# print(json.dumps(results_per_tag, indent=4))\n",
    "\n",
    "print(\"Simplified setting with only hallucination_label\")\n",
    "for ex in true:\n",
    "    for label in ex:\n",
    "        label['label'] = hallucination_label\n",
    "for ex in pred:\n",
    "    for label in ex:\n",
    "        label['label'] = hallucination_label\n",
    "        \n",
    "evaluator = Evaluator(true, pred, tags=[hallucination_label])\n",
    "results, results_per_tag = evaluator.evaluate()\n",
    "# print(json.dumps(results, indent=4))\n",
    "# print(json.dumps(results_per_tag, indent=4))"
   ]
  }
 ],
 "metadata": {
  "kernelspec": {
   "display_name": "avs_gen",
   "language": "python",
   "name": "python3"
  },
  "language_info": {
   "codemirror_mode": {
    "name": "ipython",
    "version": 3
   },
   "file_extension": ".py",
   "mimetype": "text/x-python",
   "name": "python",
   "nbconvert_exporter": "python",
   "pygments_lexer": "ipython3",
   "version": "3.9.18"
  }
 },
 "nbformat": 4,
 "nbformat_minor": 2
}
