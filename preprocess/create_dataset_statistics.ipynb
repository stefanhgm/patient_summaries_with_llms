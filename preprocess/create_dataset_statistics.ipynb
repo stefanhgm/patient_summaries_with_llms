{
 "cells": [
  {
   "attachments": {},
   "cell_type": "markdown",
   "metadata": {},
   "source": [
    "# Create Dataset Statistics"
   ]
  },
  {
   "cell_type": "code",
   "execution_count": 1,
   "metadata": {},
   "outputs": [],
   "source": [
    "from nltk.tokenize import word_tokenize, sent_tokenize\n",
    "import statistics\n",
    "import json\n",
    "from transformers import AutoTokenizer"
   ]
  },
  {
   "cell_type": "code",
   "execution_count": 7,
   "metadata": {},
   "outputs": [
    {
     "name": "stdout",
     "output_type": "stream",
     "text": [
      "Total entries: 100175\n"
     ]
    }
   ],
   "source": [
    "# Load dataset\n",
    "# mimic4_path = '/home/s_hegs02/mimic-iv-note-di/dataset/all.json'\n",
    "# Short references (BHC)\n",
    "mimic4_path = '/home/s_hegs02/mimic-iv-note-di-bhc/dataset/all.json'\n",
    "\n",
    "dataset = []\n",
    "with open(mimic4_path, 'r') as f:\n",
    "    for line in f:\n",
    "        dataset.append(json.loads(line))\n",
    "        \n",
    "# Print total entries\n",
    "print(f\"Total entries: {len(dataset)}\")"
   ]
  },
  {
   "cell_type": "code",
   "execution_count": 12,
   "metadata": {},
   "outputs": [],
   "source": [
    "# Select only 10000 notes\n",
    "# dataset = dataset[:1000]"
   ]
  },
  {
   "cell_type": "code",
   "execution_count": 8,
   "metadata": {},
   "outputs": [],
   "source": [
    "# Load Llama 2 tokenizer to determine number of tokens\n",
    "model_name = 'meta-llama/Llama-2-7b-hf'\n",
    "hf_token = ''\n",
    "\n",
    "tokenizer = AutoTokenizer.from_pretrained(model_name, token=hf_token) "
   ]
  },
  {
   "cell_type": "code",
   "execution_count": 9,
   "metadata": {},
   "outputs": [
    {
     "name": "stdout",
     "output_type": "stream",
     "text": [
      "text - mean number of sentences: 33.0\n",
      "text - mean number of words: 552.0\n",
      "text - mean number of chars: 3029.9\n",
      "text - mean number of tokens: 858.6\n",
      "text - mean number of deidentified fields: 11.5\n",
      "text - std of number of sentences: 19.0\n",
      "text - std of number of words: 314.0\n",
      "text - std of number of chars: 1736.4\n",
      "text - std of number of tokens: 498.3\n",
      "text - std of number of deidentified fields: 9.7\n",
      "\n",
      "summary - mean number of sentences: 6.5\n",
      "summary - mean number of words: 113.2\n",
      "summary - mean number of chars: 604.4\n",
      "summary - mean number of tokens: 145.4\n",
      "summary - mean number of deidentified fields: 1.1\n",
      "summary - std of number of sentences: 2.6\n",
      "summary - std of number of words: 47.4\n",
      "summary - std of number of chars: 251.0\n",
      "summary - std of number of tokens: 61.4\n",
      "summary - std of number of deidentified fields: 1.7\n",
      "\n"
     ]
    }
   ],
   "source": [
    "keys = ['text', 'summary']\n",
    "deidentified_field = '___'\n",
    "\n",
    "for k in keys:\n",
    "\n",
    "    num_sentences = []\n",
    "    num_words = []\n",
    "    num_chars = []\n",
    "    num_tokens = []\n",
    "    num_deidentified_fields = []\n",
    "\n",
    "    for i in range(len(dataset)):\n",
    "        entry = dataset[i][k]\n",
    "        num_sentences.append(len(sent_tokenize(entry)))\n",
    "        num_words.append(len(word_tokenize(entry)))\n",
    "        num_chars.append(len(entry))\n",
    "        num_tokens.append(len(tokenizer.tokenize(entry)))\n",
    "        num_deidentified_fields.append(entry.count(deidentified_field))\n",
    "        \n",
    "    # Determine average and standard deviation using statisitcs module\n",
    "    # Round by one digit\n",
    "    print(f\"{k} - mean number of sentences: {statistics.mean(num_sentences):.1f}\")\n",
    "    print(f\"{k} - mean number of words: {statistics.mean(num_words):.1f}\")\n",
    "    print(f\"{k} - mean number of chars: {statistics.mean(num_chars):.1f}\")\n",
    "    print(f\"{k} - mean number of tokens: {statistics.mean(num_tokens):.1f}\")\n",
    "    print(f\"{k} - mean number of deidentified fields: {statistics.mean(num_deidentified_fields):.1f}\")\n",
    "    \n",
    "    print(f\"{k} - std of number of sentences: {statistics.stdev(num_sentences):.1f}\")\n",
    "    print(f\"{k} - std of number of words: {statistics.stdev(num_words):.1f}\")\n",
    "    print(f\"{k} - std of number of chars: {statistics.stdev(num_chars):.1f}\")\n",
    "    print(f\"{k} - std of number of tokens: {statistics.stdev(num_tokens):.1f}\")\n",
    "    print(f\"{k} - std of number of deidentified fields: {statistics.stdev(num_deidentified_fields):.1f}\")\n",
    "    print()"
   ]
  }
 ],
 "metadata": {
  "kernelspec": {
   "display_name": "avs_gen",
   "language": "python",
   "name": "python3"
  },
  "language_info": {
   "codemirror_mode": {
    "name": "ipython",
    "version": 3
   },
   "file_extension": ".py",
   "mimetype": "text/x-python",
   "name": "python",
   "nbconvert_exporter": "python",
   "pygments_lexer": "ipython3",
   "version": "3.9.18"
  },
  "orig_nbformat": 4
 },
 "nbformat": 4,
 "nbformat_minor": 2
}
