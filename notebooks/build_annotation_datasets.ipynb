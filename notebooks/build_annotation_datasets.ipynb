{
 "cells": [
  {
   "cell_type": "markdown",
   "metadata": {},
   "source": [
    "# Build datasets for Hallucination Evaluation and Qualitative Evaluation"
   ]
  },
  {
   "cell_type": "code",
   "execution_count": 1,
   "metadata": {},
   "outputs": [],
   "source": [
    "import json\n",
    "import random\n",
    "import os\n",
    "import shutil\n",
    "import datetime\n",
    "import zipfile\n",
    "import re"
   ]
  },
  {
   "cell_type": "code",
   "execution_count": 2,
   "metadata": {},
   "outputs": [],
   "source": [
    "# Read files\n",
    "# Read jsonl files\n",
    "def read_jsonl(file_name):\n",
    "    with open(file_name, \"r\") as f:\n",
    "        return [json.loads(line) for line in f]\n",
    "    \n",
    "def read_txt(file_name):\n",
    "    list = []\n",
    "    with open(file_name, \"r\") as f:\n",
    "        list = f.read().splitlines()\n",
    "    return [{\"summary\": s} for s in list]\n",
    "\n",
    "def format_gpt4(gpt4_examples):\n",
    "    return [{\"text\": e[\"question\"], \"summary\": e[\"summary\"]} for e in gpt4_examples]\n",
    "\n",
    "# Hallucination evaluation\n",
    "llama_70b_original = read_jsonl(\"/home/s_hegs02/patient_summaries_with_llms/data/hallucination_evaluation/llama_70b_original_predictions_test_dict.jsonl\")\n",
    "llama_70b_cleaned = read_jsonl(\"/home/s_hegs02/patient_summaries_with_llms/data/hallucination_evaluation/llama_70b_cleaned_predictions_test_dict.jsonl\")\n",
    "gpt4_zero_shot = read_jsonl(\"/home/s_hegs02/patient_summaries_with_llms/data/hallucination_evaluation/gpt-4_exp4_results_prompt3.1_0shot.jsonl\")\n",
    "gpt4_orig = format_gpt4(read_jsonl(\"/home/s_hegs02/patient_summaries_with_llms/data/hallucination_evaluation/gpt-4_exp4_results_prompt3_5shot.jsonl\"))\n",
    "gpt4_cleaned = format_gpt4(read_jsonl(\"/home/s_hegs02/patient_summaries_with_llms/data/hallucination_evaluation/gpt-4_exp5_results_prompt3_5shot.jsonl\"))\n",
    "hallucination_models = [llama_70b_original, llama_70b_cleaned, gpt4_zero_shot, gpt4_orig, gpt4_cleaned]\n",
    "num_hallucination_models = len(hallucination_models)\n",
    "\n",
    "# Qualitative evaluation\n",
    "original_examples = read_jsonl(\"/home/s_hegs02/patient_summaries_with_llms/data/qualitative_evaluation/orig_test_4000_600_chars_last_50.json\")\n",
    "led_large_original = read_txt(\"/home/s_hegs02/patient_summaries_with_llms/data/qualitative_evaluation/led-large_predictions_test_dict.txt\")\n",
    "llama_70b_cleaned_improved = read_jsonl(\"/home/s_hegs02/patient_summaries_with_llms/data/qualitative_evaluation/llama_70b_cleaned_improved_predictions_test_dict.jsonl\")\n",
    "gpt4_zero_shot = read_jsonl(\"/home/s_hegs02/patient_summaries_with_llms/data/qualitative_evaluation/gpt-4_exp4_results_prompt3.1_0shot.jsonl\")\n",
    "gpt4_cleaned_improved = format_gpt4(read_jsonl(\"/home/s_hegs02/patient_summaries_with_llms/data/qualitative_evaluation/gpt-4_exp6_results_prompt3_5shot.jsonl\"))\n",
    "qualitative_models = [original_examples, led_large_original, llama_70b_cleaned_improved, gpt4_zero_shot, gpt4_cleaned_improved]\n",
    "num_qualitative_models = len(qualitative_models)\n",
    "\n",
    "\n",
    "num_examples = len(original_examples)\n",
    "# Assert each model has the same number of examples\n",
    "assert all(len(model) == num_examples for model in qualitative_models)\n",
    "assert all(len(model) == num_examples for model in hallucination_models)"
   ]
  },
  {
   "cell_type": "code",
   "execution_count": null,
   "metadata": {},
   "outputs": [],
   "source": [
    "# Debug print summaries with cetain id\n",
    "# Print summary at position 33 and 34 for all hallucination models\n",
    "# Was done to check if hallucination ratios after permutation - labelingreverse permutation are correct\n",
    "\n",
    "# for model in hallucination_models:\n",
    "#     print(model[33][\"summary\"])\n",
    "# print()\n",
    "# for model in hallucination_models:\n",
    "#     print(model[34][\"summary\"])"
   ]
  },
  {
   "cell_type": "code",
   "execution_count": 3,
   "metadata": {},
   "outputs": [
    {
     "name": "stdout",
     "output_type": "stream",
     "text": [
      "Hallucination models: \n",
      "{'summary prefixes': 0, 'newlines': 0, 'repeated_spaces': 2}\n",
      "{'summary prefixes': 0, 'newlines': 0, 'repeated_spaces': 9}\n",
      "{'summary prefixes': 0, 'newlines': 0, 'repeated_spaces': 0}\n",
      "{'summary prefixes': 0, 'newlines': 0, 'repeated_spaces': 0}\n",
      "{'summary prefixes': 3, 'newlines': 3, 'repeated_spaces': 0}\n",
      "Qualitative models: \n",
      "{'summary prefixes': 0, 'newlines': 0, 'repeated_spaces': 0}\n",
      "{'summary prefixes': 0, 'newlines': 0, 'repeated_spaces': 0}\n",
      "{'summary prefixes': 0, 'newlines': 0, 'repeated_spaces': 6}\n",
      "{'summary prefixes': 0, 'newlines': 0, 'repeated_spaces': 0}\n",
      "{'summary prefixes': 3, 'newlines': 3, 'repeated_spaces': 0}\n",
      "\n",
      "Cleaning summaries...\n"
     ]
    }
   ],
   "source": [
    "# Count the number of newlines and repeated spaces in each summary\n",
    "def count_newlines_and_repeated_spaces(examples):\n",
    "    total_summary_prefixes = 0\n",
    "    total_newlines = 0\n",
    "    total_repeated_spaces = 0\n",
    "    for e in examples:\n",
    "        summary = e[\"summary\"]\n",
    "        # Count SUMMMARY: at beginning of summary\n",
    "        total_summary_prefixes += summary.lower().startswith(\"summary:\\n\")\n",
    "        total_newlines += summary.count(\"\\n\")\n",
    "        total_repeated_spaces += summary.count(\"  \")\n",
    "    return {\"summary prefixes\": total_summary_prefixes, \"newlines\": total_newlines, \"repeated_spaces\": total_repeated_spaces}\n",
    "\n",
    "print(\"Hallucination models: \")\n",
    "print('\\n'.join([str(count_newlines_and_repeated_spaces(model)) for model in hallucination_models]))\n",
    "print(\"Qualitative models: \")\n",
    "print('\\n'.join([str(count_newlines_and_repeated_spaces(model)) for model in qualitative_models]))\n",
    "\n",
    "# Clean all summaries from newlines and repeated spaces, change to single spaces\n",
    "def clean_summaries(examples):\n",
    "    for e in examples:\n",
    "        # Some gpt-4 examples start with SUMMARY:, to prevent identifying the model, remove it\n",
    "        if e[\"summary\"].lower().startswith(\"summary:\\n\"):\n",
    "            e[\"summary\"] = e[\"summary\"][9:]\n",
    "        # Remove newlines and repeated spaces\n",
    "        e[\"summary\"] = \" \".join(e[\"summary\"].split())\n",
    "        \n",
    "    return examples\n",
    "\n",
    "print(\"\\nCleaning summaries...\")\n",
    "hallucination_models = [clean_summaries(model) for model in hallucination_models]\n",
    "qualitative_models = [clean_summaries(model) for model in qualitative_models]"
   ]
  },
  {
   "cell_type": "code",
   "execution_count": 4,
   "metadata": {},
   "outputs": [],
   "source": [
    "# Debugging\n",
    "num_examples = 50"
   ]
  },
  {
   "cell_type": "code",
   "execution_count": 5,
   "metadata": {},
   "outputs": [
    {
     "name": "stdout",
     "output_type": "stream",
     "text": [
      "hallucination_random_models: {0: [0, 4, 3, 1, 2], 1: [4, 1, 3, 2, 0], 2: [0, 2, 1, 3, 4], 3: [1, 0, 3, 4, 2], 4: [3, 2, 4, 1, 0], 5: [3, 2, 1, 4, 0], 6: [1, 2, 3, 0, 4], 7: [1, 3, 2, 4, 0], 8: [4, 0, 1, 3, 2], 9: [0, 3, 2, 4, 1], 10: [0, 4, 3, 2, 1], 11: [1, 0, 4, 3, 2], 12: [2, 4, 1, 0, 3], 13: [3, 1, 0, 4, 2], 14: [4, 2, 0, 1, 3], 15: [0, 2, 4, 3, 1], 16: [1, 4, 2, 3, 0], 17: [2, 3, 1, 0, 4], 18: [4, 0, 3, 2, 1], 19: [0, 3, 1, 2, 4], 20: [4, 0, 2, 3, 1], 21: [0, 4, 2, 1, 3], 22: [0, 2, 4, 3, 1], 23: [1, 0, 3, 4, 2], 24: [3, 1, 0, 4, 2], 25: [2, 0, 3, 4, 1], 26: [4, 3, 0, 1, 2], 27: [3, 4, 2, 1, 0], 28: [4, 2, 3, 1, 0], 29: [4, 1, 3, 0, 2], 30: [2, 3, 0, 1, 4], 31: [4, 2, 0, 3, 1], 32: [3, 0, 2, 1, 4], 33: [2, 3, 4, 1, 0], 34: [4, 1, 3, 2, 0], 35: [0, 4, 1, 3, 2], 36: [4, 1, 3, 0, 2], 37: [3, 1, 0, 4, 2], 38: [3, 2, 4, 1, 0], 39: [1, 0, 3, 4, 2], 40: [4, 3, 0, 1, 2], 41: [2, 3, 4, 0, 1], 42: [2, 4, 3, 1, 0], 43: [4, 1, 2, 0, 3], 44: [0, 4, 3, 1, 2], 45: [3, 2, 0, 1, 4], 46: [2, 4, 0, 3, 1], 47: [2, 1, 0, 4, 3], 48: [4, 2, 3, 1, 0], 49: [3, 1, 4, 2, 0]}\n",
      "qualitative_random_models: {0: [2, 4, 3, 0, 1], 1: [4, 3, 2, 1, 0], 2: [3, 1, 2, 0, 4], 3: [1, 2, 3, 0, 4], 4: [3, 1, 4, 2, 0], 5: [3, 2, 4, 1, 0], 6: [3, 2, 1, 4, 0], 7: [2, 0, 3, 4, 1], 8: [4, 1, 3, 0, 2], 9: [2, 4, 0, 3, 1], 10: [0, 2, 1, 4, 3], 11: [1, 0, 3, 4, 2], 12: [3, 0, 1, 2, 4], 13: [0, 3, 4, 1, 2], 14: [2, 3, 4, 0, 1], 15: [1, 0, 4, 3, 2], 16: [2, 0, 4, 3, 1], 17: [0, 3, 1, 4, 2], 18: [0, 1, 4, 2, 3], 19: [1, 4, 2, 3, 0], 20: [4, 1, 0, 3, 2], 21: [2, 4, 0, 1, 3], 22: [0, 3, 2, 1, 4], 23: [2, 4, 3, 0, 1], 24: [3, 1, 4, 2, 0], 25: [3, 1, 2, 0, 4], 26: [2, 3, 0, 1, 4], 27: [2, 3, 0, 4, 1], 28: [4, 0, 3, 1, 2], 29: [0, 1, 3, 2, 4], 30: [1, 3, 0, 4, 2], 31: [1, 3, 4, 0, 2], 32: [3, 0, 1, 2, 4], 33: [4, 2, 3, 0, 1], 34: [2, 3, 4, 1, 0], 35: [1, 0, 4, 3, 2], 36: [4, 3, 1, 2, 0], 37: [3, 0, 2, 1, 4], 38: [0, 2, 4, 1, 3], 39: [3, 2, 0, 4, 1], 40: [4, 3, 2, 1, 0], 41: [4, 2, 0, 1, 3], 42: [4, 0, 2, 3, 1], 43: [0, 1, 3, 4, 2], 44: [1, 2, 4, 0, 3], 45: [2, 3, 0, 1, 4], 46: [3, 1, 2, 4, 0], 47: [4, 3, 1, 2, 0], 48: [4, 0, 1, 2, 3], 49: [3, 0, 4, 1, 2]}\n"
     ]
    }
   ],
   "source": [
    "# Add randomness\n",
    "# Set reproducible seed\n",
    "random.seed(2)\n",
    "\n",
    "def get_random_permutation(max_num):\n",
    "    return random.sample(range(max_num), max_num)\n",
    "    # Debug\n",
    "    # return list(range(max_num))\n",
    "\n",
    "hallucination_random_models = {}\n",
    "qualitative_random_models = {}\n",
    "\n",
    "for id in range(num_examples):\n",
    "    hallucination_random_models[id] = get_random_permutation(num_hallucination_models)\n",
    "    qualitative_random_models[id] = get_random_permutation(num_qualitative_models)\n",
    "\n",
    "print(\"hallucination_random_models:\", hallucination_random_models)\n",
    "print(\"qualitative_random_models:\", qualitative_random_models)"
   ]
  },
  {
   "cell_type": "code",
   "execution_count": 6,
   "metadata": {},
   "outputs": [],
   "source": [
    "# Get hallucination examples\n",
    "hallucination_summaries = []\n",
    "for id in range(num_examples):\n",
    "    text = original_examples[id][\"text\"]\n",
    "    summaries = []\n",
    "    for j in range(num_hallucination_models):\n",
    "        random_index = hallucination_random_models[id][j]\n",
    "        summaries.append(hallucination_models[random_index][id][\"summary\"])\n",
    "    hallucination_summaries.append({\"text\": text, \"summaries\": summaries})\n",
    "\n",
    "# Get qualitative examples\n",
    "qualitative_summaries = []\n",
    "for id in range(num_examples):\n",
    "    text = original_examples[id][\"text\"]\n",
    "    summaries = []\n",
    "    for j in range(num_qualitative_models):\n",
    "        random_index = qualitative_random_models[id][j]\n",
    "        summaries.append(qualitative_models[random_index][id][\"summary\"])\n",
    "    qualitative_summaries.append({\"text\": text, \"summaries\": summaries})"
   ]
  },
  {
   "cell_type": "code",
   "execution_count": null,
   "metadata": {},
   "outputs": [],
   "source": [
    "# Print hallucination examples\n",
    "\n",
    "for i in range(num_examples):\n",
    "    print(f\"Text:\\n{hallucination_summaries[i]['text']}\\n\")\n",
    "    for j in range(num_hallucination_models):\n",
    "        print(f\"Summary {j}:\\n{hallucination_summaries[i]['summaries'][j]}\\n\")\n",
    "    print(\"\\n\\n\")"
   ]
  },
  {
   "cell_type": "code",
   "execution_count": null,
   "metadata": {},
   "outputs": [],
   "source": [
    "# Print qualitative examples\n",
    "\n",
    "for i in range(num_examples):\n",
    "    print(f\"Text:\\n{qualitative_summaries[i]['text']}\\n\")\n",
    "    for j in range(num_qualitative_models):\n",
    "        print(f\"Summary {j}:\\n{qualitative_summaries[i]['summaries'][j]}\\n\")\n",
    "    print(\"\\n\\n\")"
   ]
  },
  {
   "cell_type": "code",
   "execution_count": 34,
   "metadata": {},
   "outputs": [],
   "source": [
    "# Clean results folder and store examples in the folder\n",
    "hallucination_folder = \"/home/s_hegs02/patient_summaries_with_llms/data/results_hallucinations\"\n",
    "qualitative_folder = \"/home/s_hegs02/patient_summaries_with_llms/data/results_qualitative\"\n",
    "\n",
    "# Clean results folder\n",
    "def clean_results_folder(folder):\n",
    "    if os.path.exists(folder):\n",
    "        shutil.rmtree(folder)\n",
    "    os.makedirs(folder)\n",
    "    \n",
    "clean_results_folder(hallucination_folder)\n",
    "clean_results_folder(qualitative_folder)\n",
    "\n",
    "# Store hallucination examples\n",
    "for i in range(num_examples):\n",
    "    hallucination_file = os.path.join(hallucination_folder, f\"{i}_hallucination.txt\")\n",
    "    with open(hallucination_file, \"w\") as f:\n",
    "        f.write(f\"Text:\\n{hallucination_summaries[i]['text']}\\n\\n\")\n",
    "        for j in range(num_hallucination_models):\n",
    "            f.write(f\"Summary {j}:\\n{hallucination_summaries[i]['summaries'][j]}\\n\\n\")\n",
    "        f.write(\"\\n\\n\")\n",
    "        \n",
    "# Store qualitative examples\n",
    "for i in range(num_examples):\n",
    "    qualitative_file = os.path.join(qualitative_folder, f\"{i}_qualitative.txt\")\n",
    "    with open(qualitative_file, \"w\") as f:\n",
    "        f.write(f\"Text:\\n{qualitative_summaries[i]['text']}\\n\\n\")\n",
    "        for j in range(num_qualitative_models):\n",
    "            f.write(f\"Summary {j}:\\n{qualitative_summaries[i]['summaries'][j]}\\n\\n\")\n",
    "        f.write(\"\\n\\n\")\n",
    "\n",
    "def zipdir(path, ziph):\n",
    "    # ziph is zipfile handle\n",
    "    for root, dirs, files in os.walk(path):\n",
    "        for file in files:\n",
    "            # ziph.write(os.path.join(root, file), os.path.relpath(os.path.join(root, file), os.path.join(path, '..')))\n",
    "            ziph.write(os.path.join(root, file), file)\n",
    "            \n",
    "zip_hallucination_file_name = f\"hallucinations_{datetime.datetime.now().strftime('%Y-%m-%d_%H-%M-%S')}.zip\"\n",
    "zip_qualitative_file_name = f\"qualitative_{datetime.datetime.now().strftime('%Y-%m-%d_%H-%M-%S')}.zip\"\n",
    "\n",
    "zipf_hallucination = zipfile.ZipFile(zip_hallucination_file_name, 'w', zipfile.ZIP_DEFLATED)\n",
    "zipdir(hallucination_folder, zipf_hallucination)\n",
    "zipf_hallucination.close()\n",
    "zipf_qualitative = zipfile.ZipFile(zip_qualitative_file_name, 'w', zipfile.ZIP_DEFLATED)\n",
    "zipdir(qualitative_folder, zipf_qualitative)\n",
    "zipf_qualitative.close()"
   ]
  }
 ],
 "metadata": {
  "kernelspec": {
   "display_name": "avs_gen",
   "language": "python",
   "name": "python3"
  },
  "language_info": {
   "codemirror_mode": {
    "name": "ipython",
    "version": 3
   },
   "file_extension": ".py",
   "mimetype": "text/x-python",
   "name": "python",
   "nbconvert_exporter": "python",
   "pygments_lexer": "ipython3",
   "version": "3.9.18"
  }
 },
 "nbformat": 4,
 "nbformat_minor": 2
}
