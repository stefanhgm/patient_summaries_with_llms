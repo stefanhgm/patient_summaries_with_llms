{
 "cells": [
  {
   "attachments": {},
   "cell_type": "markdown",
   "metadata": {},
   "source": [
    "# Helper script to determine token size of different texts"
   ]
  },
  {
   "cell_type": "code",
   "execution_count": null,
   "metadata": {},
   "outputs": [],
   "source": [
    "from transformers import AutoTokenizer\n",
    "import pandas as pd"
   ]
  },
  {
   "cell_type": "code",
   "execution_count": 2,
   "metadata": {},
   "outputs": [],
   "source": [
    "# Set tokenizer\n",
    "# Very common tokenizer, also used by MPT models\n",
    "tokenizer = AutoTokenizer.from_pretrained(\"meta-llama/Llama-2-7b-hf\")\n",
    "\n",
    "def num_tokens(text):\n",
    "    return len(tokenizer.tokenize(text))"
   ]
  },
  {
   "cell_type": "code",
   "execution_count": 4,
   "metadata": {},
   "outputs": [],
   "source": [
    "# Get texts and collect them in a dictionary\n",
    "\n",
    "df_mimic_iv_avs = pd.read_json('/home/s/s_hegs02/scratch/mimic-iv-note-di/dataset/all.json', orient='records', lines=True)\n",
    "df_mimic_iv_avs_brief_hc = pd.read_json('/home/s/s_hegs02/scratch/mimic-iv-note-di-bhc/dataset/all.json', orient='records', lines=True)\n",
    "\n",
    "# Put text and summary columns in a dict of pandas series\n",
    "text_dict = {}\n",
    "text_dict['mimic-iv-avs text'] = df_mimic_iv_avs['text']\n",
    "text_dict['mimic-iv-avs summary'] = df_mimic_iv_avs['summary']\n",
    "text_dict['mimic-iv-avs_brief_hc text'] = df_mimic_iv_avs_brief_hc['text']\n",
    "text_dict['mimic-iv-avs_brief_hc summary'] = df_mimic_iv_avs_brief_hc['summary']\n"
   ]
  },
  {
   "cell_type": "code",
   "execution_count": 5,
   "metadata": {},
   "outputs": [],
   "source": [
    "# Determine num tokens for all texts\n",
    "for key, value in text_dict.items():\n",
    "    text_dict[key] = value.apply(num_tokens)"
   ]
  },
  {
   "cell_type": "code",
   "execution_count": 6,
   "metadata": {},
   "outputs": [
    {
     "name": "stdout",
     "output_type": "stream",
     "text": [
      "mimic-iv-avs text\n",
      "count    100175.000000\n",
      "mean       4367.086758\n",
      "std        1625.275635\n",
      "min         554.000000\n",
      "25%        3277.000000\n",
      "50%        4141.000000\n",
      "75%        5180.000000\n",
      "max       21542.000000\n",
      "Name: text, dtype: float64\n",
      "mimic-iv-avs summary\n",
      "count    100175.000000\n",
      "mean        145.393891\n",
      "std          61.365393\n",
      "min          67.000000\n",
      "25%         103.000000\n",
      "50%         128.000000\n",
      "75%         169.000000\n",
      "max         960.000000\n",
      "Name: summary, dtype: float64\n",
      "mimic-iv-avs_brief_hc text\n",
      "count    100175.000000\n",
      "mean        858.606059\n",
      "std         498.301372\n",
      "min         106.000000\n",
      "25%         504.000000\n",
      "50%         753.000000\n",
      "75%        1096.000000\n",
      "max        7768.000000\n",
      "Name: text, dtype: float64\n",
      "mimic-iv-avs_brief_hc summary\n",
      "count    100175.000000\n",
      "mean        145.393891\n",
      "std          61.365393\n",
      "min          67.000000\n",
      "25%         103.000000\n",
      "50%         128.000000\n",
      "75%         169.000000\n",
      "max         960.000000\n",
      "Name: summary, dtype: float64\n"
     ]
    }
   ],
   "source": [
    "# Print statistics for each series\n",
    "for key, value in text_dict.items():\n",
    "    print(key)\n",
    "    print(value.describe())"
   ]
  },
  {
   "cell_type": "code",
   "execution_count": 7,
   "metadata": {},
   "outputs": [
    {
     "name": "stdout",
     "output_type": "stream",
     "text": [
      "2200.0\n"
     ]
    }
   ],
   "source": [
    "print(text_dict['mimic-iv-avs_brief_hc text'].quantile(0.98))"
   ]
  },
  {
   "cell_type": "code",
   "execution_count": 14,
   "metadata": {},
   "outputs": [
    {
     "name": "stdout",
     "output_type": "stream",
     "text": [
      "322.0\n"
     ]
    }
   ],
   "source": [
    "print(text_dict['mimic-iv-avs_brief_hc summary'].quantile(0.98))"
   ]
  },
  {
   "cell_type": "code",
   "execution_count": 15,
   "metadata": {},
   "outputs": [
    {
     "name": "stdout",
     "output_type": "stream",
     "text": [
      "370.0\n"
     ]
    }
   ],
   "source": [
    "print(text_dict['mimic-iv-avs_brief_hc summary'].quantile(0.99))"
   ]
  }
 ],
 "metadata": {
  "kernelspec": {
   "display_name": "avs_gen",
   "language": "python",
   "name": "python3"
  },
  "language_info": {
   "codemirror_mode": {
    "name": "ipython",
    "version": 3
   },
   "file_extension": ".py",
   "mimetype": "text/x-python",
   "name": "python",
   "nbconvert_exporter": "python",
   "pygments_lexer": "ipython3",
   "version": "3.9.18"
  },
  "orig_nbformat": 4
 },
 "nbformat": 4,
 "nbformat_minor": 2
}
