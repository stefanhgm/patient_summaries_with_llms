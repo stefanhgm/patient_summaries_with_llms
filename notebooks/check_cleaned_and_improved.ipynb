{
 "cells": [
  {
   "cell_type": "markdown",
   "metadata": {},
   "source": [
    "# Verify annotations of cleaned and improved data"
   ]
  },
  {
   "cell_type": "code",
   "execution_count": 13,
   "metadata": {},
   "outputs": [],
   "source": [
    "import re\n",
    "import json"
   ]
  },
  {
   "cell_type": "code",
   "execution_count": 16,
   "metadata": {},
   "outputs": [],
   "source": [
    "# Read file\n",
    "path = '/home/s_hegs02/mimic-iv-note-di-bhc/dataset/hallucination_summaries_cleaned_improved_test_100.json'\n",
    "# path = '/home/s_hegs02/mimic-iv-note-di-bhc/dataset/hallucination_summaries_cleaned_improved_valid_10.json'\n",
    "# path = '/home/s_hegs02/patient_summaries_with_llms/gpt-4/summarization_data/exp_3_in-context.json'\n",
    "# path = '/home/s_hegs02/patient_summaries_with_llms/gpt-4/summarization_data/exp_3_test.json'\n",
    "# path = '/home/s_hegs02/patient_summaries_with_llms/gpt-4/summarization_data/exp_6_in-context.json'\n",
    "\n",
    "# Read jsonl file, each line is a dict with 'text' and 'summary'\n",
    "with open(path, 'r') as f:\n",
    "    data = [json.loads(line) for line in f.readlines()]\n",
    "    "
   ]
  },
  {
   "cell_type": "code",
   "execution_count": 17,
   "metadata": {},
   "outputs": [],
   "source": [
    "# Check data\n",
    "\n",
    "# Check that no summary contains '__'\n",
    "for i, d in enumerate(data):\n",
    "    if '__' in d['summary']:\n",
    "        print(i, d['summary'])\n",
    "        "
   ]
  }
 ],
 "metadata": {
  "kernelspec": {
   "display_name": "avs_gen",
   "language": "python",
   "name": "python3"
  },
  "language_info": {
   "codemirror_mode": {
    "name": "ipython",
    "version": 3
   },
   "file_extension": ".py",
   "mimetype": "text/x-python",
   "name": "python",
   "nbconvert_exporter": "python",
   "pygments_lexer": "ipython3",
   "version": "3.9.18"
  }
 },
 "nbformat": 4,
 "nbformat_minor": 2
}
